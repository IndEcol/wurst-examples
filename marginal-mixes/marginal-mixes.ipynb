{
 "cells": [
  {
   "cell_type": "markdown",
   "metadata": {},
   "source": [
    "# Change electricity marginal mixes\n",
    "\n",
    "This example wurst project changes the marginal mixes of electricity in the ecoinvent consequential system model. Data from [Laurent Vandepaer](https://www.psi.ch/ta/lvandepaer) based on IEA and other sources."
   ]
  },
  {
   "cell_type": "markdown",
   "metadata": {},
   "source": [
    "## Load ecoinvent\n",
    "\n",
    "This notebook assumes that you have ecoinvent 3.3, consequential system model, installed. Adjust as needed."
   ]
  },
  {
   "cell_type": "code",
   "execution_count": 1,
   "metadata": {
    "collapsed": true
   },
   "outputs": [],
   "source": [
    "import brightway2 as bw"
   ]
  },
  {
   "cell_type": "code",
   "execution_count": 2,
   "metadata": {
    "collapsed": true
   },
   "outputs": [],
   "source": [
    "ECOINVENT_DB_NAME = 'ecoinvent 3.3 consequential'\n",
    "\n",
    "assert ECOINVENT_DB_NAME in bw.databases\n",
    "assert len(bw.Database(ECOINVENT_DB_NAME))"
   ]
  },
  {
   "cell_type": "markdown",
   "metadata": {},
   "source": [
    "Load the data from ecoinvent."
   ]
  },
  {
   "cell_type": "code",
   "execution_count": 3,
   "metadata": {
    "collapsed": true
   },
   "outputs": [],
   "source": [
    "import wurst as w"
   ]
  },
  {
   "cell_type": "code",
   "execution_count": 4,
   "metadata": {},
   "outputs": [
    {
     "name": "stdout",
     "output_type": "stream",
     "text": [
      "Getting activity data\n"
     ]
    },
    {
     "name": "stderr",
     "output_type": "stream",
     "text": [
      "100%|██████████| 12321/12321 [00:00<00:00, 157101.83it/s]\n",
      "  1%|          | 2750/369171 [00:00<00:13, 27497.53it/s]"
     ]
    },
    {
     "name": "stdout",
     "output_type": "stream",
     "text": [
      "Adding exchange data to activities\n"
     ]
    },
    {
     "name": "stderr",
     "output_type": "stream",
     "text": [
      "100%|██████████| 369171/369171 [00:16<00:00, 21945.23it/s]\n",
      "  0%|          | 40/12321 [00:00<00:30, 398.12it/s]"
     ]
    },
    {
     "name": "stdout",
     "output_type": "stream",
     "text": [
      "Filling out exchange data\n"
     ]
    },
    {
     "name": "stderr",
     "output_type": "stream",
     "text": [
      "100%|██████████| 12321/12321 [00:01<00:00, 8285.84it/s]\n"
     ]
    }
   ],
   "source": [
    "ecoinvent = w.extract_brightway2_databases([ECOINVENT_DB_NAME])"
   ]
  },
  {
   "cell_type": "markdown",
   "metadata": {},
   "source": [
    "## Load and clean input data\n",
    "\n",
    "First load data from example input data sheet. You may need to install `xlrd`:\n",
    "\n",
    "    !conda install -y openpyxl"
   ]
  },
  {
   "cell_type": "code",
   "execution_count": 5,
   "metadata": {
    "collapsed": true
   },
   "outputs": [],
   "source": [
    "import openpyxl"
   ]
  },
  {
   "cell_type": "code",
   "execution_count": 6,
   "metadata": {},
   "outputs": [
    {
     "name": "stderr",
     "output_type": "stream",
     "text": [
      "/Users/cmutel/miniconda3/envs/wurst/lib/python3.6/site-packages/openpyxl/reader/worksheet.py:310: UserWarning: Unknown extension is not supported and will be removed\n",
      "  warn(msg)\n"
     ]
    }
   ],
   "source": [
    "from openpyxl import load_workbook\n",
    "wb = load_workbook(filename=\"data/consequential-mixes.xlsx\")\n",
    "ws = wb['data']"
   ]
  },
  {
   "cell_type": "markdown",
   "metadata": {},
   "source": [
    "Get regions codes"
   ]
  },
  {
   "cell_type": "code",
   "execution_count": 7,
   "metadata": {
    "collapsed": true
   },
   "outputs": [],
   "source": [
    "REGIONS = [(row, ws.cell(row=row, column=2).value) for row in range(5, 46)]"
   ]
  },
  {
   "cell_type": "markdown",
   "metadata": {},
   "source": [
    "Define what column labels we will use."
   ]
  },
  {
   "cell_type": "code",
   "execution_count": 8,
   "metadata": {
    "collapsed": true
   },
   "outputs": [],
   "source": [
    "PRODUCERS = {\n",
    "    'electricity production, hard coal',\n",
    "    'electricity production, lignite',\n",
    "    'electricity production, natural gas, combined cycle power plant',\n",
    "    'electricity production, oil',\n",
    "    'electricity production, nuclear, pressure water reactor',\n",
    "    'electricity production, hydro, reservoir, alpine region',\n",
    "    'electricity production, hydro, reservoir, non-alpine region',\n",
    "    'electricity production, hydro, reservoir, tropical region',\n",
    "    'electricity production, hydro, run-of-river',\n",
    "    'electricity production, wind, >3MW turbine, onshore',\n",
    "    'electricity production, wind, 1-3MW turbine, offshore',\n",
    "    'electricity production, deep geothermal',\n",
    "    'heat and power co-generation, wood chips, 6667 kW, state-of-the-art 2014',\n",
    "    'electricity production, photovoltaic, 3kWp slanted-roof installation, multi-Si, panel, mounted',\n",
    "    'electricity production, photovoltaic, 570kWp open ground installation, multi-Si',\n",
    "    'CSP solar tower',\n",
    "    'CSP parabolic trough',\n",
    "}"
   ]
  },
  {
   "cell_type": "code",
   "execution_count": 9,
   "metadata": {
    "collapsed": true
   },
   "outputs": [],
   "source": [
    "COLUMNS = [(col, ws.cell(row=4, column=col).value) for col in range(6, 27)\n",
    "           if ws.cell(row=4, column=col).value in PRODUCERS]"
   ]
  },
  {
   "cell_type": "code",
   "execution_count": 10,
   "metadata": {
    "collapsed": true
   },
   "outputs": [],
   "source": [
    "data = {region: {tech: ws.cell(row=row_index, column=col_index).value \n",
    "                 for col_index, tech in COLUMNS\n",
    "                 if ws.cell(row=row_index, column=col_index).value}\n",
    "        for row_index, region in REGIONS\n",
    "        if region != 'WO'}"
   ]
  },
  {
   "cell_type": "markdown",
   "metadata": {},
   "source": [
    "Our `data` now looks like this:\n",
    "\n",
    "\t{\n",
    "        'AT': {\n",
    "            'electricity production, hydro, reservoir, alpine region': 885.851278194835,\n",
    "            'electricity production, hydro, run-of-river': 2657.5538345845052,\n",
    "            'electricity production, natural gas, combined cycle power plant': 7815.445475981833,\n",
    "            'electricity production, photovoltaic, 3kWp slanted-roof installation, multi-Si, panel, mounted': 2440.7354672168003,\n",
    "            'electricity production, wind, >3MW turbine, onshore': 6091.564235280648,\n",
    "            'heat and power co-generation, wood chips, 6667 kW, state-of-the-art 2014': 1468.685036019685},\n",
    "            'AU': {'electricity production, hard coal': 2299.4193831589578,\n",
    "            'electricity production, natural gas, combined cycle power plant': 8258.07173127728,\n",
    "            'electricity production, photovoltaic, 3kWp slanted-roof installation, multi-Si, panel, mounted': 39623.643762789485,\n",
    "            'electricity production, photovoltaic, 570kWp open ground installation, multi-Si': 20683.484469207007,\n",
    "            'electricity production, wind, >3MW turbine, onshore': 5034.074334501579\n",
    "        },\n",
    "    }"
   ]
  },
  {
   "cell_type": "markdown",
   "metadata": {},
   "source": [
    "Clean production technologies which are not in the current imported version of ecoinvent."
   ]
  },
  {
   "cell_type": "code",
   "execution_count": 11,
   "metadata": {
    "collapsed": true
   },
   "outputs": [],
   "source": [
    "def remove_missing(dct, lst):\n",
    "    return {k: v for k, v in dct.items() if k in lst}\n",
    "\n",
    "ecoinvent_names = {x['name'] for x in ecoinvent}\n",
    "\n",
    "data = {k: remove_missing(v, ecoinvent_names) for k, v in data.items()}"
   ]
  },
  {
   "cell_type": "markdown",
   "metadata": {},
   "source": [
    "Need to normalize values to sum to one for each country."
   ]
  },
  {
   "cell_type": "code",
   "execution_count": 12,
   "metadata": {
    "collapsed": true
   },
   "outputs": [],
   "source": [
    "def normalize(dct):\n",
    "    total = sum(dct.values())\n",
    "    return {k: v / total for k, v in dct.items()}\n",
    "\n",
    "data = {k: normalize(v) for k, v in data.items()}"
   ]
  },
  {
   "cell_type": "markdown",
   "metadata": {},
   "source": [
    "## Adjust ecoinvent electricity production mixes\n",
    "\n",
    "We will put all generators into the high voltage mix, as this is the most widely used. The medium & low voltage will draw completely from high voltage. `wurst` already has a convenience function for this transformation."
   ]
  },
  {
   "cell_type": "code",
   "execution_count": 13,
   "metadata": {
    "collapsed": true
   },
   "outputs": [],
   "source": [
    "from wurst.ecoinvent.electricity_markets import (\n",
    "    empty_low_voltage_markets,\n",
    "    empty_medium_voltage_markets,\n",
    "    empty_high_voltage_markets,\n",
    ")"
   ]
  },
  {
   "cell_type": "code",
   "execution_count": 14,
   "metadata": {
    "collapsed": true
   },
   "outputs": [],
   "source": [
    "empty_low_voltage_markets(ecoinvent)\n",
    "empty_medium_voltage_markets(ecoinvent)\n",
    "\n",
    "pass"
   ]
  },
  {
   "cell_type": "markdown",
   "metadata": {},
   "source": [
    "Also need to empty out the high voltage market - we will fill this with our input data."
   ]
  },
  {
   "cell_type": "code",
   "execution_count": 15,
   "metadata": {
    "collapsed": true
   },
   "outputs": [],
   "source": [
    "empty_high_voltage_markets(ecoinvent)\n",
    "\n",
    "pass"
   ]
  },
  {
   "cell_type": "markdown",
   "metadata": {},
   "source": [
    "## Add marginal electricity providers\n",
    "\n",
    "Add marginal electricity providers to high voltage mixes. Need to select location-correct generation technologies for each region - sometimes a country-specific generator is not available."
   ]
  },
  {
   "cell_type": "code",
   "execution_count": 16,
   "metadata": {
    "collapsed": true
   },
   "outputs": [],
   "source": [
    "from wurst.ecoinvent import ECOINVENT_ORDERED_GEO"
   ]
  },
  {
   "cell_type": "markdown",
   "metadata": {},
   "source": [
    "We have to be a bit tricky with getting the right locations. We have many mixes in ecoinvent which don't correspond to regions in the input data. Some of these we can match directly, as shown below, e.g Canadian provinces get national candation stats. In cases where this doesn't work, such as Tanzania, we have to use the `RoW` input dataset."
   ]
  },
  {
   "cell_type": "code",
   "execution_count": 17,
   "metadata": {
    "collapsed": true
   },
   "outputs": [],
   "source": [
    "REGION_MAPPING = {\n",
    "    \"ASCC\": \"US\",\n",
    "    \"BA\": \"HR\",  # Croatia for Bosnia & Herzegovina\n",
    "    \"CA-AB\": \"CA\",\n",
    "    \"CA-BC\": \"CA\",\n",
    "    \"CA-MB\": \"CA\",\n",
    "    \"CA-NB\": \"CA\",\n",
    "    \"CA-NF\": \"CA\",\n",
    "    \"CA-NS\": \"CA\",\n",
    "    \"CA-NT\": \"CA\",\n",
    "    \"CA-NU\": \"CA\",\n",
    "    \"CA-ON\": \"CA\",\n",
    "    \"CA-PE\": \"CA\",\n",
    "    \"CA-QC\": \"CA\",\n",
    "    \"CA-SK\": \"CA\",\n",
    "    \"CA-YK\": \"CA\",\n",
    "    \"CSG\": \"CN\",\n",
    "    \"FRCC\": \"US\",\n",
    "    \"GB\": \"UK\",\n",
    "    \"HICC\": \"US\",\n",
    "    \"MK\": \"HR\",  # Croatia for Macedonia\n",
    "    \"MRO, US only\": \"US\",\n",
    "    \"NPCC, US only\": \"US\",\n",
    "    \"RFC\": \"US\",\n",
    "    \"RS\": \"HR\", # Croatia for Serbia\n",
    "    \"SERC\": \"US\",\n",
    "    \"SGCC\": \"CN\",\n",
    "    \"SPP\": \"US\",\n",
    "    \"TRE\": \"US\",\n",
    "    \"WECC, US only\": \"US\",\n",
    "}\n",
    "\n",
    "def get_input_location(location):\n",
    "    if location in data:\n",
    "        return location\n",
    "    elif location in REGION_MAPPING:\n",
    "        return REGION_MAPPING[location]\n",
    "    else:\n",
    "        return \"RoW\""
   ]
  },
  {
   "cell_type": "code",
   "execution_count": 18,
   "metadata": {
    "collapsed": true
   },
   "outputs": [],
   "source": [
    "high_voltage_mixes = w.get_many(ecoinvent, w.equals('name', 'market for electricity, high voltage'))"
   ]
  },
  {
   "cell_type": "code",
   "execution_count": 19,
   "metadata": {
    "collapsed": true,
    "scrolled": false
   },
   "outputs": [],
   "source": [
    "for mix in high_voltage_mixes:\n",
    "    providers = data[get_input_location(mix['location'])]\n",
    "\n",
    "    for name, amount in providers.items():\n",
    "        possible_matches = w.get_many(ecoinvent, w.equals('name', name))\n",
    "        best_match = w.best_geo_match(possible_matches, ECOINVENT_ORDERED_GEO[mix['location']])\n",
    "        if not best_match:\n",
    "            assert mix['location'] in ('PL', 'EE')\n",
    "            assert name == 'electricity production, wind, 1-3MW turbine, offshore'\n",
    "            # 'electricity production, wind, 1-3MW turbine, offshore' doesn't have a RoW or GLO market\n",
    "            # In this case we will use the offshore activity in Sweden (Could also use Finland, etc.)\n",
    "            best_match = w.get_one(ecoinvent, w.equals('name', name), w.equals('location', 'SE'))\n",
    "\n",
    "        mix['exchanges'].append({\n",
    "            'amount': amount,\n",
    "            'input': (best_match['database'], best_match['code']),\n",
    "            'type': 'technosphere',\n",
    "            'name': name,\n",
    "            'location': best_match['location']\n",
    "        })"
   ]
  },
  {
   "cell_type": "markdown",
   "metadata": {},
   "source": [
    "## Write finished databases"
   ]
  },
  {
   "cell_type": "code",
   "execution_count": 26,
   "metadata": {
    "collapsed": true
   },
   "outputs": [],
   "source": [
    "NEW_DB_NAME = \"ecoinvent 3.3 long-term\""
   ]
  },
  {
   "cell_type": "code",
   "execution_count": 20,
   "metadata": {},
   "outputs": [
    {
     "name": "stdout",
     "output_type": "stream",
     "text": [
      "12321 datasets\n",
      "368693 exchanges\n",
      "0 unlinked exchanges\n",
      "  \n"
     ]
    },
    {
     "name": "stderr",
     "output_type": "stream",
     "text": [
      "Writing activities to SQLite3 database:\n",
      "0%                          100%\n",
      "[##############################] | ETA: 00:00:00\n",
      "Total time elapsed: 00:00:41\n"
     ]
    },
    {
     "name": "stdout",
     "output_type": "stream",
     "text": [
      "Title: Writing activities to SQLite3 database:\n",
      "  Started: 07/06/2017 16:06:51\n",
      "  Finished: 07/06/2017 16:07:33\n",
      "  Total time elapsed: 00:00:41\n",
      "  CPU %: 92.30\n",
      "  Memory %: 6.34\n",
      "Created database: ecoinvent 3.3 long-term\n"
     ]
    }
   ],
   "source": [
    "w.write_brightway2_database(ecoinvent, NEW_DB_NAME)"
   ]
  },
  {
   "cell_type": "markdown",
   "metadata": {},
   "source": [
    "## Some simple meta-analysis"
   ]
  },
  {
   "cell_type": "code",
   "execution_count": 22,
   "metadata": {
    "collapsed": true
   },
   "outputs": [],
   "source": [
    "%matplotlib inline"
   ]
  },
  {
   "cell_type": "code",
   "execution_count": 33,
   "metadata": {
    "collapsed": true
   },
   "outputs": [],
   "source": [
    "import matplotlib.pyplot as plt\n",
    "import seaborn as sns\n",
    "import numpy as np\n",
    "from tqdm import tqdm"
   ]
  },
  {
   "cell_type": "code",
   "execution_count": 30,
   "metadata": {
    "collapsed": true
   },
   "outputs": [],
   "source": [
    "gwp = ('IPCC 2013', 'climate change', 'GWP 100a')"
   ]
  },
  {
   "cell_type": "code",
   "execution_count": 31,
   "metadata": {},
   "outputs": [
    {
     "name": "stderr",
     "output_type": "stream",
     "text": [
      "100%|██████████| 12321/12321 [01:38<00:00, 113.27it/s]\n"
     ]
    }
   ],
   "source": [
    "lca = bw.LCA({bw.Database(ECOINVENT_DB_NAME).random(): 1}, gwp)\n",
    "lca.lci()\n",
    "lca.lcia()\n",
    "\n",
    "old_results = {}\n",
    "\n",
    "for act in tqdm(bw.Database(ECOINVENT_DB_NAME)):\n",
    "    lca.redo_lcia({act: 1})\n",
    "    old_results[act['code']] = lca.score"
   ]
  },
  {
   "cell_type": "code",
   "execution_count": 32,
   "metadata": {},
   "outputs": [
    {
     "name": "stderr",
     "output_type": "stream",
     "text": [
      "100%|██████████| 12321/12321 [01:40<00:00, 122.29it/s]\n"
     ]
    }
   ],
   "source": [
    "lca = bw.LCA({bw.Database(NEW_DB_NAME).random(): 1}, gwp)\n",
    "lca.lci()\n",
    "lca.lcia()\n",
    "\n",
    "new_results = {}\n",
    "\n",
    "for act in tqdm(bw.Database(NEW_DB_NAME)):\n",
    "    lca.redo_lcia({act: 1})\n",
    "    new_results[act['code']] = lca.score"
   ]
  },
  {
   "cell_type": "code",
   "execution_count": 40,
   "metadata": {
    "collapsed": true
   },
   "outputs": [],
   "source": [
    "differences = []\n",
    "\n",
    "for key in old_results:\n",
    "    if old_results[key] and new_results[key]:\n",
    "        differences.append((new_results[key] - old_results[key]) / old_results[key])\n",
    "        \n",
    "differences = np.array(differences)\n",
    "mask = (differences > -1) * (differences < 1)\n",
    "differences = differences[mask]"
   ]
  },
  {
   "cell_type": "code",
   "execution_count": 45,
   "metadata": {},
   "outputs": [
    {
     "data": {
      "text/plain": [
       "<matplotlib.axes._subplots.AxesSubplot at 0x12015b0f0>"
      ]
     },
     "execution_count": 45,
     "metadata": {},
     "output_type": "execute_result"
    },
    {
     "data": {
      "image/png": "[encoded data removed]",
      "text/plain": [
       "<matplotlib.figure.Figure at 0x12163c278>"
      ]
     },
     "metadata": {},
     "output_type": "display_data"
    }
   ],
   "source": [
    "sns.distplot(differences, bins=100)"
   ]
  },
  {
   "cell_type": "code",
   "execution_count": null,
   "metadata": {
    "collapsed": true
   },
   "outputs": [],
   "source": []
  }
 ],
 "metadata": {
  "kernelspec": {
   "display_name": "Python 3",
   "language": "python",
   "name": "python3"
  },
  "language_info": {
   "codemirror_mode": {
    "name": "ipython",
    "version": 3
   },
   "file_extension": ".py",
   "mimetype": "text/x-python",
   "name": "python",
   "nbconvert_exporter": "python",
   "pygments_lexer": "ipython3",
   "version": "3.6.1"
  }
 },
 "nbformat": 4,
 "nbformat_minor": 2
}
