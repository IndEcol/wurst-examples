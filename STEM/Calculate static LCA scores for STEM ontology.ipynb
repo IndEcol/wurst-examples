{
 "cells": [
  {
   "cell_type": "code",
   "execution_count": 1,
   "metadata": {
    "collapsed": true
   },
   "outputs": [],
   "source": [
    "import brightway2 as bw\n",
    "import wurst as w\n",
    "import pandas as pd\n",
    "import csv"
   ]
  },
  {
   "cell_type": "markdown",
   "metadata": {},
   "source": [
    "Match STEM labels to ecoinvent activities. We don't need to load the whole database into memory for this simple example."
   ]
  },
  {
   "cell_type": "code",
   "execution_count": 2,
   "metadata": {},
   "outputs": [],
   "source": [
    "db = bw.Database(\"ecoinvent 3.3 cutoff\")"
   ]
  },
  {
   "cell_type": "markdown",
   "metadata": {},
   "source": [
    "Load STEM-ecoinvent matching lists."
   ]
  },
  {
   "cell_type": "code",
   "execution_count": 3,
   "metadata": {},
   "outputs": [
    {
     "data": {
      "text/html": [
       "<div>\n",
       "<style>\n",
       "    .dataframe thead tr:only-child th {\n",
       "        text-align: right;\n",
       "    }\n",
       "\n",
       "    .dataframe thead th {\n",
       "        text-align: left;\n",
       "    }\n",
       "\n",
       "    .dataframe tbody tr th {\n",
       "        vertical-align: top;\n",
       "    }\n",
       "</style>\n",
       "<table border=\"1\" class=\"dataframe\">\n",
       "  <thead>\n",
       "    <tr style=\"text-align: right;\">\n",
       "      <th></th>\n",
       "      <th>STEM name</th>\n",
       "      <th>Ecoinvent 3.3</th>\n",
       "      <th>Location</th>\n",
       "    </tr>\n",
       "  </thead>\n",
       "  <tbody>\n",
       "    <tr>\n",
       "      <th>0</th>\n",
       "      <td>Gas (B)</td>\n",
       "      <td>electricity production, natural gas, combined ...</td>\n",
       "      <td>DE</td>\n",
       "    </tr>\n",
       "    <tr>\n",
       "      <th>1</th>\n",
       "      <td>Gas (F)</td>\n",
       "      <td>electricity production, natural gas, combined ...</td>\n",
       "      <td>DE</td>\n",
       "    </tr>\n",
       "    <tr>\n",
       "      <th>2</th>\n",
       "      <td>Gas (CHP)</td>\n",
       "      <td>heat and power co-generation, biogas, gas engine</td>\n",
       "      <td>CH</td>\n",
       "    </tr>\n",
       "    <tr>\n",
       "      <th>3</th>\n",
       "      <td>Gas-CCS</td>\n",
       "      <td>electricity production, natural gas, combined ...</td>\n",
       "      <td>DE</td>\n",
       "    </tr>\n",
       "    <tr>\n",
       "      <th>4</th>\n",
       "      <td>Coal</td>\n",
       "      <td>electricity production, hard coal</td>\n",
       "      <td>DE</td>\n",
       "    </tr>\n",
       "    <tr>\n",
       "      <th>5</th>\n",
       "      <td>Coal-CCS</td>\n",
       "      <td>electricity production, hard coal</td>\n",
       "      <td>DE</td>\n",
       "    </tr>\n",
       "    <tr>\n",
       "      <th>6</th>\n",
       "      <td>Nuclear</td>\n",
       "      <td>electricity production, nuclear, pressure wate...</td>\n",
       "      <td>CH</td>\n",
       "    </tr>\n",
       "    <tr>\n",
       "      <th>7</th>\n",
       "      <td>Oil</td>\n",
       "      <td>electricity production, oil</td>\n",
       "      <td>DE</td>\n",
       "    </tr>\n",
       "    <tr>\n",
       "      <th>8</th>\n",
       "      <td>Hydro (R)</td>\n",
       "      <td>electricity production, hydro, run-of-river</td>\n",
       "      <td>CH</td>\n",
       "    </tr>\n",
       "    <tr>\n",
       "      <th>9</th>\n",
       "      <td>Hydro (D)</td>\n",
       "      <td>electricity production, hydro, reservoir, alp...</td>\n",
       "      <td>CH</td>\n",
       "    </tr>\n",
       "    <tr>\n",
       "      <th>10</th>\n",
       "      <td>Hydro (P)</td>\n",
       "      <td>electricity production, hydro, pumped storage</td>\n",
       "      <td>CH</td>\n",
       "    </tr>\n",
       "    <tr>\n",
       "      <th>11</th>\n",
       "      <td>Geothermal</td>\n",
       "      <td>electricity production, deep geothermal</td>\n",
       "      <td>CH</td>\n",
       "    </tr>\n",
       "    <tr>\n",
       "      <th>12</th>\n",
       "      <td>Solar</td>\n",
       "      <td>electricity production, photovoltaic, 3kWp sla...</td>\n",
       "      <td>CH</td>\n",
       "    </tr>\n",
       "    <tr>\n",
       "      <th>13</th>\n",
       "      <td>Wind</td>\n",
       "      <td>electricity production, wind, &gt;3MW turbine, on...</td>\n",
       "      <td>DE</td>\n",
       "    </tr>\n",
       "    <tr>\n",
       "      <th>14</th>\n",
       "      <td>Waste/Biogas</td>\n",
       "      <td>heat and power co-generation, biogas, gas engine</td>\n",
       "      <td>CH</td>\n",
       "    </tr>\n",
       "    <tr>\n",
       "      <th>15</th>\n",
       "      <td>Biomass</td>\n",
       "      <td>heat and power co-generation, wood chips, 6667 kW</td>\n",
       "      <td>CH</td>\n",
       "    </tr>\n",
       "    <tr>\n",
       "      <th>16</th>\n",
       "      <td>CHP (DG)</td>\n",
       "      <td>heat and power co-generation, wood chips, 6667 kW</td>\n",
       "      <td>CH</td>\n",
       "    </tr>\n",
       "  </tbody>\n",
       "</table>\n",
       "</div>"
      ],
      "text/plain": [
       "       STEM name                                      Ecoinvent 3.3 Location\n",
       "0        Gas (B)  electricity production, natural gas, combined ...       DE\n",
       "1        Gas (F)  electricity production, natural gas, combined ...       DE\n",
       "2      Gas (CHP)   heat and power co-generation, biogas, gas engine       CH\n",
       "3        Gas-CCS  electricity production, natural gas, combined ...       DE\n",
       "4           Coal                  electricity production, hard coal       DE\n",
       "5       Coal-CCS                  electricity production, hard coal       DE\n",
       "6        Nuclear  electricity production, nuclear, pressure wate...       CH\n",
       "7            Oil                        electricity production, oil       DE\n",
       "8     Hydro (R)         electricity production, hydro, run-of-river       CH\n",
       "9     Hydro (D)    electricity production, hydro, reservoir, alp...       CH\n",
       "10    Hydro (P)       electricity production, hydro, pumped storage       CH\n",
       "11    Geothermal            electricity production, deep geothermal       CH\n",
       "12         Solar  electricity production, photovoltaic, 3kWp sla...       CH\n",
       "13          Wind  electricity production, wind, >3MW turbine, on...       DE\n",
       "14  Waste/Biogas   heat and power co-generation, biogas, gas engine       CH\n",
       "15       Biomass  heat and power co-generation, wood chips, 6667 kW       CH\n",
       "16      CHP (DG)  heat and power co-generation, wood chips, 6667 kW       CH"
      ]
     },
     "execution_count": 3,
     "metadata": {},
     "output_type": "execute_result"
    }
   ],
   "source": [
    "df = pd.read_excel(\"stem-to-ecoinvent.xlsx\")\n",
    "df"
   ]
  },
  {
   "cell_type": "markdown",
   "metadata": {},
   "source": [
    "Get labels in the same order."
   ]
  },
  {
   "cell_type": "code",
   "execution_count": 4,
   "metadata": {},
   "outputs": [],
   "source": [
    "labels = [x[0].strip() for x in df.values]"
   ]
  },
  {
   "cell_type": "markdown",
   "metadata": {},
   "source": [
    "Find the ecoinvent activities, using name, location, and unit."
   ]
  },
  {
   "cell_type": "code",
   "execution_count": 5,
   "metadata": {},
   "outputs": [
    {
     "data": {
      "text/plain": [
       "{'Biomass': 'heat and power co-generation, wood chips, 6667 kW' (kilowatt hour, CH, None),\n",
       " 'CHP (DG)': 'heat and power co-generation, wood chips, 6667 kW' (kilowatt hour, CH, None),\n",
       " 'Coal': 'electricity production, hard coal' (kilowatt hour, DE, None),\n",
       " 'Coal-CCS': 'electricity production, hard coal' (kilowatt hour, DE, None),\n",
       " 'Gas (B)': 'electricity production, natural gas, combined cycle power plant' (kilowatt hour, DE, None),\n",
       " 'Gas (CHP)': 'heat and power co-generation, biogas, gas engine' (kilowatt hour, CH, None),\n",
       " 'Gas (F)': 'electricity production, natural gas, combined cycle power plant' (kilowatt hour, DE, None),\n",
       " 'Gas-CCS': 'electricity production, natural gas, combined cycle power plant' (kilowatt hour, DE, None),\n",
       " 'Geothermal': 'electricity production, deep geothermal' (kilowatt hour, CH, None),\n",
       " 'Hydro (D)': 'electricity production, hydro, reservoir, alpine region' (kilowatt hour, CH, None),\n",
       " 'Hydro (P)': 'electricity production, hydro, pumped storage' (kilowatt hour, CH, None),\n",
       " 'Hydro (R)': 'electricity production, hydro, run-of-river' (kilowatt hour, CH, None),\n",
       " 'Nuclear': 'electricity production, nuclear, pressure water reactor' (kilowatt hour, CH, None),\n",
       " 'Oil': 'electricity production, oil' (kilowatt hour, DE, None),\n",
       " 'Solar': 'electricity production, photovoltaic, 3kWp slanted-roof installation, multi-Si, panel, mounted' (kilowatt hour, CH, None),\n",
       " 'Waste/Biogas': 'heat and power co-generation, biogas, gas engine' (kilowatt hour, CH, None),\n",
       " 'Wind': 'electricity production, wind, >3MW turbine, onshore' (kilowatt hour, DE, None)}"
      ]
     },
     "execution_count": 5,
     "metadata": {},
     "output_type": "execute_result"
    }
   ],
   "source": [
    "mapped = {\n",
    "    label.strip(): w.get_one(db, \n",
    "                             w.equals('name', name.strip()), \n",
    "                             w.equals('location', location.strip()),\n",
    "                             w.equals('unit', 'kilowatt hour'))\n",
    "    for label, name, location in df.values\n",
    "}\n",
    "mapped"
   ]
  },
  {
   "cell_type": "markdown",
   "metadata": {},
   "source": [
    "Calculate scores for these methods (can be changed)."
   ]
  },
  {
   "cell_type": "code",
   "execution_count": 6,
   "metadata": {
    "collapsed": true
   },
   "outputs": [],
   "source": [
    "selected_methods = [\n",
    "    ('IPCC 2013', 'climate change', 'GWP 100a'),\n",
    "    ('ReCiPe Endpoint (H,A)', 'total', 'total'),\n",
    "]"
   ]
  },
  {
   "cell_type": "code",
   "execution_count": 7,
   "metadata": {},
   "outputs": [],
   "source": [
    "results = []\n",
    "\n",
    "for method in selected_methods:\n",
    "    for technology in mapped:\n",
    "        lca = bw.LCA({mapped[technology]: 1}, method)\n",
    "        lca.lci()\n",
    "        lca.lcia()\n",
    "        results.append((\"-\".join(method), technology, lca.score))"
   ]
  },
  {
   "cell_type": "markdown",
   "metadata": {},
   "source": [
    "Export to CSV"
   ]
  },
  {
   "cell_type": "code",
   "execution_count": 8,
   "metadata": {
    "collapsed": true
   },
   "outputs": [],
   "source": [
    "with open('stem-scores.csv', 'w') as csvfile:\n",
    "    writer = csv.writer(csvfile)\n",
    "    for row in results:\n",
    "        writer.writerow(row)"
   ]
  }
 ],
 "metadata": {
  "kernelspec": {
   "display_name": "Python 3",
   "language": "python",
   "name": "python3"
  },
  "language_info": {
   "codemirror_mode": {
    "name": "ipython",
    "version": 3
   },
   "file_extension": ".py",
   "mimetype": "text/x-python",
   "name": "python",
   "nbconvert_exporter": "python",
   "pygments_lexer": "ipython3",
   "version": "3.6.1"
  }
 },
 "nbformat": 4,
 "nbformat_minor": 2
}
