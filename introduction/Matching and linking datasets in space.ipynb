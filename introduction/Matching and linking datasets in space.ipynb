{
 "cells": [
  {
   "cell_type": "markdown",
   "metadata": {},
   "source": [
    "# Matching and linking datasets in space\n",
    "\n",
    "This notebook shows how to use the [geomatcher](https://wurst.readthedocs.io/technical.html#wurst.geo.Geomatcher) object in [Wurst](https://github.com/IndEcol/wurst).\n",
    "\n",
    "## Consistent global topology\n",
    "\n",
    "The foundation for the `geomatcher` is a consistent global topology, built using the [Constructive Geometries](https://bitbucket.org/cmutel/constructive-geometries) repository, and provided in Python using a [separate library](https://bitbucket.org/cmutel/py-constructive-geometries). The base data is from [Natural Earth](http://www.naturalearthdata.com/), though there has been a number of fixes and added locations.\n",
    "\n",
    "A [topolgy](https://postgis.net/docs/Topology.html) is useful because it comes with guarantees of consistency, as each edge is only stored once. This allows us to do GIS operations using set algebra with the ids of topological faces. Here is an part of the world, as provided in `Constructive Geometries`:\n",
    "\n",
    "<img src=\"images/japan.png\">\n",
    "\n",
    "As you can see, each polygon is a face, no matter how big or small it is.\n",
    "\n",
    "## Retrieving facial ids\n",
    "\n",
    "As a first try, you can retrieve the faces associated with any given location:"
   ]
  },
  {
   "cell_type": "code",
   "execution_count": 2,
   "metadata": {},
   "outputs": [
    {
     "data": {
      "text/plain": [
       "[6144, 6145, 6146, 6147, 6148, 6149, 6150, 6151, 6152, 6153]"
      ]
     },
     "execution_count": 2,
     "metadata": {},
     "output_type": "execute_result"
    }
   ],
   "source": [
    "from wurst import *\n",
    "list(geomatcher['JP'])[:10]"
   ]
  },
  {
   "cell_type": "markdown",
   "metadata": {},
   "source": [
    "Geospatial definitions are namespaced, except for countries. Countries are therefore defined by their ISO two-letter codes, but other data should be referenced by a tuple of its namespace and identifier:"
   ]
  },
  {
   "cell_type": "code",
   "execution_count": 3,
   "metadata": {},
   "outputs": [
    {
     "data": {
      "text/plain": [
       "[2048, 1, 2, 3, 4, 5, 6, 7, 8, 9]"
      ]
     },
     "execution_count": 3,
     "metadata": {},
     "output_type": "execute_result"
    }
   ],
   "source": [
    "list(geomatcher[('ecoinvent', 'NAFTA')])[:10]"
   ]
  },
  {
   "cell_type": "markdown",
   "metadata": {},
   "source": [
    "You can also set a default namespace. The default is `\"ecoinvent\"`. So, the IMAGE regions are loaded by default, and must be retrieved explicitly, while ecoinvent regions will be searched automatically, unless the default namespace is changed."
   ]
  },
  {
   "cell_type": "code",
   "execution_count": 5,
   "metadata": {},
   "outputs": [
    {
     "data": {
      "text/plain": [
       "[5194, 5195, 5196, 5197, 5198, 5199, 5200, 5201, 5202, 5203]"
      ]
     },
     "execution_count": 5,
     "metadata": {},
     "output_type": "execute_result"
    }
   ],
   "source": [
    "list(geomatcher[('IMAGE', 'Oceania')])[:10]"
   ]
  },
  {
   "cell_type": "code",
   "execution_count": 7,
   "metadata": {},
   "outputs": [
    {
     "data": {
      "text/plain": [
       "[2048, 1, 2, 3, 4, 5, 6, 7, 8, 9]"
      ]
     },
     "execution_count": 7,
     "metadata": {},
     "output_type": "execute_result"
    }
   ],
   "source": [
    "list(geomatcher['NAFTA'])[:10]"
   ]
  },
  {
   "cell_type": "code",
   "execution_count": 6,
   "metadata": {},
   "outputs": [
    {
     "name": "stderr",
     "output_type": "stream",
     "text": [
      "WARNING:root:Oceania not found in regex\n"
     ]
    },
    {
     "ename": "KeyError",
     "evalue": "\"Can't find this location\"",
     "output_type": "error",
     "traceback": [
      "\u001b[0;31m---------------------------------------------------------------------------\u001b[0m",
      "\u001b[0;31mKeyError\u001b[0m                                  Traceback (most recent call last)",
      "\u001b[0;32m<ipython-input-6-270743655dda>\u001b[0m in \u001b[0;36m<module>\u001b[0;34m()\u001b[0m\n\u001b[0;32m----> 1\u001b[0;31m \u001b[0mgeomatcher\u001b[0m\u001b[0;34m[\u001b[0m\u001b[0;34m'Oceania'\u001b[0m\u001b[0;34m]\u001b[0m\u001b[0;34m\u001b[0m\u001b[0m\n\u001b[0m",
      "\u001b[0;32m~/Code/wurst/wurst/geo.py\u001b[0m in \u001b[0;36m__getitem__\u001b[0;34m(self, key)\u001b[0m\n\u001b[1;32m     60\u001b[0m         \u001b[0;32mif\u001b[0m \u001b[0mkey\u001b[0m \u001b[0;32min\u001b[0m \u001b[0;34m{\u001b[0m\u001b[0;34m\"RoW\"\u001b[0m\u001b[0;34m,\u001b[0m \u001b[0;34m\"GLO\"\u001b[0m\u001b[0;34m}\u001b[0m\u001b[0;34m:\u001b[0m\u001b[0;34m\u001b[0m\u001b[0m\n\u001b[1;32m     61\u001b[0m             \u001b[0;32mreturn\u001b[0m \u001b[0mset\u001b[0m\u001b[0;34m(\u001b[0m\u001b[0;34m)\u001b[0m\u001b[0;34m\u001b[0m\u001b[0m\n\u001b[0;32m---> 62\u001b[0;31m         \u001b[0;32mreturn\u001b[0m \u001b[0mself\u001b[0m\u001b[0;34m.\u001b[0m\u001b[0mtopology\u001b[0m\u001b[0;34m[\u001b[0m\u001b[0mself\u001b[0m\u001b[0;34m.\u001b[0m\u001b[0m_actual_key\u001b[0m\u001b[0;34m(\u001b[0m\u001b[0mkey\u001b[0m\u001b[0;34m)\u001b[0m\u001b[0;34m]\u001b[0m\u001b[0;34m\u001b[0m\u001b[0m\n\u001b[0m\u001b[1;32m     63\u001b[0m \u001b[0;34m\u001b[0m\u001b[0m\n\u001b[1;32m     64\u001b[0m     \u001b[0;32mdef\u001b[0m \u001b[0m_actual_key\u001b[0m\u001b[0;34m(\u001b[0m\u001b[0mself\u001b[0m\u001b[0;34m,\u001b[0m \u001b[0mkey\u001b[0m\u001b[0;34m)\u001b[0m\u001b[0;34m:\u001b[0m\u001b[0;34m\u001b[0m\u001b[0m\n",
      "\u001b[0;32m~/Code/wurst/wurst/geo.py\u001b[0m in \u001b[0;36m_actual_key\u001b[0;34m(self, key)\u001b[0m\n\u001b[1;32m     79\u001b[0m                 \u001b[0;32mreturn\u001b[0m \u001b[0mnew\u001b[0m\u001b[0;34m\u001b[0m\u001b[0m\n\u001b[1;32m     80\u001b[0m \u001b[0;34m\u001b[0m\u001b[0m\n\u001b[0;32m---> 81\u001b[0;31m         \u001b[0;32mraise\u001b[0m \u001b[0mKeyError\u001b[0m\u001b[0;34m(\u001b[0m\u001b[0;34m\"Can't find this location\"\u001b[0m\u001b[0;34m)\u001b[0m\u001b[0;34m\u001b[0m\u001b[0m\n\u001b[0m\u001b[1;32m     82\u001b[0m \u001b[0;34m\u001b[0m\u001b[0m\n\u001b[1;32m     83\u001b[0m     \u001b[0;32mdef\u001b[0m \u001b[0m_finish_filter\u001b[0m\u001b[0;34m(\u001b[0m\u001b[0mself\u001b[0m\u001b[0;34m,\u001b[0m \u001b[0mlst\u001b[0m\u001b[0;34m,\u001b[0m \u001b[0mkey\u001b[0m\u001b[0;34m,\u001b[0m \u001b[0minclude_self\u001b[0m\u001b[0;34m,\u001b[0m \u001b[0mexclusive\u001b[0m\u001b[0;34m,\u001b[0m \u001b[0mbiggest_first\u001b[0m\u001b[0;34m)\u001b[0m\u001b[0;34m:\u001b[0m\u001b[0;34m\u001b[0m\u001b[0m\n",
      "\u001b[0;31mKeyError\u001b[0m: \"Can't find this location\""
     ]
    }
   ],
   "source": [
    "geomatcher['Oceania']"
   ]
  },
  {
   "cell_type": "code",
   "execution_count": 8,
   "metadata": {
    "collapsed": true
   },
   "outputs": [],
   "source": [
    "geomatcher.default_namespace = 'IMAGE'"
   ]
  },
  {
   "cell_type": "code",
   "execution_count": 10,
   "metadata": {},
   "outputs": [
    {
     "data": {
      "text/plain": [
       "[5194, 5195, 5196, 5197, 5198, 5199, 5200, 5201, 5202, 5203]"
      ]
     },
     "execution_count": 10,
     "metadata": {},
     "output_type": "execute_result"
    }
   ],
   "source": [
    "list(geomatcher['Oceania'])[:10]"
   ]
  },
  {
   "cell_type": "markdown",
   "metadata": {},
   "source": [
    "Finally, by default `geomatcher` will search for country names, using [country converter](https://github.com/konstantinstadler/country_converter)."
   ]
  },
  {
   "cell_type": "code",
   "execution_count": 11,
   "metadata": {},
   "outputs": [
    {
     "data": {
      "text/plain": [
       "False"
      ]
     },
     "execution_count": 11,
     "metadata": {},
     "output_type": "execute_result"
    }
   ],
   "source": [
    "'Japan' in geomatcher.topology"
   ]
  },
  {
   "cell_type": "code",
   "execution_count": 12,
   "metadata": {},
   "outputs": [
    {
     "data": {
      "text/plain": [
       "[6144, 6145, 6146, 6147, 6148, 6149, 6150, 6151, 6152, 6153]"
      ]
     },
     "execution_count": 12,
     "metadata": {},
     "output_type": "execute_result"
    }
   ],
   "source": [
    "list(geomatcher['Japan'])[:10]"
   ]
  },
  {
   "cell_type": "markdown",
   "metadata": {},
   "source": [
    "## GIS operations: intersection, contained, within\n",
    "\n",
    "Geomatcher allows you to do quick GIS calculations."
   ]
  },
  {
   "cell_type": "code",
   "execution_count": 13,
   "metadata": {},
   "outputs": [
    {
     "data": {
      "text/plain": [
       "[('ecoinvent', 'UN-AMERICAS'),\n",
       " ('ecoinvent', 'RNA'),\n",
       " ('ecoinvent', 'NAFTA'),\n",
       " ('ecoinvent', 'IAI Area 2, North America'),\n",
       " ('ecoinvent', 'IAI Area 2, without Quebec'),\n",
       " ('IMAGE', 'USA'),\n",
       " ('ecoinvent', 'US-ASCC'),\n",
       " ('ecoinvent', 'NPCC'),\n",
       " ('ecoinvent', 'US-NPCC'),\n",
       " ('ecoinvent', 'US-HICC'),\n",
       " ('ecoinvent', 'WECC'),\n",
       " ('ecoinvent', 'US-WECC'),\n",
       " ('ecoinvent', 'US-SERC'),\n",
       " ('ecoinvent', 'US-RFC'),\n",
       " ('ecoinvent', 'MRO'),\n",
       " ('ecoinvent', 'US-TRE'),\n",
       " ('ecoinvent', 'US-FRCC'),\n",
       " ('ecoinvent', 'US-MRO'),\n",
       " ('ecoinvent', 'US-SPP')]"
      ]
     },
     "execution_count": 13,
     "metadata": {},
     "output_type": "execute_result"
    }
   ],
   "source": [
    "geomatcher.intersects(\"US\")"
   ]
  },
  {
   "cell_type": "markdown",
   "metadata": {},
   "source": [
    "`contained` gets all locations that are *completely within* this location, whereas `within` gets all locations that *completely contain* this location."
   ]
  },
  {
   "cell_type": "code",
   "execution_count": 15,
   "metadata": {},
   "outputs": [
    {
     "data": {
      "text/plain": [
       "['US',\n",
       " ('ecoinvent', 'US-ASCC'),\n",
       " ('ecoinvent', 'US-NPCC'),\n",
       " ('ecoinvent', 'US-HICC'),\n",
       " ('ecoinvent', 'US-WECC'),\n",
       " ('ecoinvent', 'US-SERC'),\n",
       " ('ecoinvent', 'US-RFC'),\n",
       " ('ecoinvent', 'US-FRCC'),\n",
       " ('ecoinvent', 'US-MRO'),\n",
       " ('ecoinvent', 'US-SPP')]"
      ]
     },
     "execution_count": 15,
     "metadata": {},
     "output_type": "execute_result"
    }
   ],
   "source": [
    "geomatcher.contained(\"US\")"
   ]
  },
  {
   "cell_type": "code",
   "execution_count": 16,
   "metadata": {},
   "outputs": [
    {
     "data": {
      "text/plain": [
       "[('ecoinvent', 'UN-AMERICAS'),\n",
       " ('ecoinvent', 'RNA'),\n",
       " ('ecoinvent', 'NAFTA'),\n",
       " ('ecoinvent', 'IAI Area 2, North America'),\n",
       " ('ecoinvent', 'IAI Area 2, without Quebec'),\n",
       " ('IMAGE', 'USA'),\n",
       " 'US']"
      ]
     },
     "execution_count": 16,
     "metadata": {},
     "output_type": "execute_result"
    }
   ],
   "source": [
    "geomatcher.within(\"US\")"
   ]
  },
  {
   "cell_type": "markdown",
   "metadata": {},
   "source": [
    "For all three operations, you can exclude the input variable:"
   ]
  },
  {
   "cell_type": "code",
   "execution_count": 18,
   "metadata": {},
   "outputs": [
    {
     "data": {
      "text/plain": [
       "[('ecoinvent', 'UN-AMERICAS'),\n",
       " ('ecoinvent', 'RNA'),\n",
       " ('ecoinvent', 'NAFTA'),\n",
       " ('ecoinvent', 'IAI Area 2, North America'),\n",
       " ('ecoinvent', 'IAI Area 2, without Quebec'),\n",
       " ('IMAGE', 'USA')]"
      ]
     },
     "execution_count": 18,
     "metadata": {},
     "output_type": "execute_result"
    }
   ],
   "source": [
    "geomatcher.within(\"US\", include_self=False)"
   ]
  },
  {
   "cell_type": "markdown",
   "metadata": {},
   "source": [
    "You can also change the sorting order, with is biggest first by default."
   ]
  },
  {
   "cell_type": "code",
   "execution_count": 20,
   "metadata": {},
   "outputs": [
    {
     "data": {
      "text/plain": [
       "[('IMAGE', 'USA'),\n",
       " ('ecoinvent', 'IAI Area 2, without Quebec'),\n",
       " ('ecoinvent', 'IAI Area 2, North America'),\n",
       " ('ecoinvent', 'NAFTA'),\n",
       " ('ecoinvent', 'RNA'),\n",
       " ('ecoinvent', 'UN-AMERICAS')]"
      ]
     },
     "execution_count": 20,
     "metadata": {},
     "output_type": "execute_result"
    }
   ],
   "source": [
    "geomatcher.within(\"US\", include_self=False, biggest_first=False)"
   ]
  },
  {
   "cell_type": "markdown",
   "metadata": {},
   "source": [
    "Finally, you can ask for an list where none of the regions overlap:"
   ]
  },
  {
   "cell_type": "code",
   "execution_count": 3,
   "metadata": {},
   "outputs": [
    {
     "data": {
      "text/plain": [
       "[('ecoinvent', 'US-FRCC'),\n",
       " ('ecoinvent', 'US-MRO'),\n",
       " ('ecoinvent', 'US-SPP'),\n",
       " ('ecoinvent', 'US-TRE'),\n",
       " ('ecoinvent', 'US-RFC'),\n",
       " ('ecoinvent', 'US-SERC'),\n",
       " ('ecoinvent', 'US-WECC'),\n",
       " ('ecoinvent', 'US-HICC'),\n",
       " ('ecoinvent', 'US-NPCC'),\n",
       " ('ecoinvent', 'US-ASCC')]"
      ]
     },
     "execution_count": 3,
     "metadata": {},
     "output_type": "execute_result"
    }
   ],
   "source": [
    "geomatcher.intersects(\"US\", biggest_first=False, exclusive=True)"
   ]
  },
  {
   "cell_type": "markdown",
   "metadata": {
    "collapsed": true
   },
   "source": [
    "## Splitting faces\n",
    "\n",
    "Say we wanted to split the island of Honshu and develop a separate inventory for Tokyo. From our graphic above, we know that Honshu has face number 6247. So, we can split this face into two new ones - one of which we will consider Tolyo, and the other the \"Rest of Honshu\"."
   ]
  },
  {
   "cell_type": "code",
   "execution_count": 4,
   "metadata": {},
   "outputs": [
    {
     "data": {
      "text/plain": [
       "(7162, 7163)"
      ]
     },
     "execution_count": 4,
     "metadata": {},
     "output_type": "execute_result"
    }
   ],
   "source": [
    "first, second = geomatcher.split_face(6247)\n",
    "first, second"
   ]
  },
  {
   "cell_type": "code",
   "execution_count": 7,
   "metadata": {
    "collapsed": true
   },
   "outputs": [],
   "source": [
    "geomatcher.topology[(\"example\", \"Rest of Honshu\")] = set([first])\n",
    "geomatcher.topology[(\"example\", \"Tokyo\")] = set([second])"
   ]
  },
  {
   "cell_type": "code",
   "execution_count": 8,
   "metadata": {},
   "outputs": [
    {
     "data": {
      "text/plain": [
       "['JP', ('IMAGE', 'Japan'), ('example', 'Rest of Honshu'), ('example', 'Tokyo')]"
      ]
     },
     "execution_count": 8,
     "metadata": {},
     "output_type": "execute_result"
    }
   ],
   "source": [
    "geomatcher.contained(\"JP\")"
   ]
  },
  {
   "cell_type": "markdown",
   "metadata": {},
   "source": [
    "`split_face` also supports the arguments `number` (number of new faces to create), and `ids` (integers values for the new ids to create). If `ids` is passed, `number` is ignored."
   ]
  },
  {
   "cell_type": "markdown",
   "metadata": {},
   "source": [
    "## Adding new topologies\n",
    "\n",
    "You can also add new topologies to support custom spatial systems. This is how the IMAGE regions are added in Wurst:\n",
    "\n",
    "    geomatcher.add_definitions(IMAGE_TOPOLOGY, \"IMAGE\")\n",
    "    \n",
    "New topologies can be either relative (default) or not. Relative topologies are defined by reference to regions already in the topology:\n",
    "\n",
    "    {\"Russia Region\": [\n",
    "        \"AM\",\n",
    "        \"AZ\",\n",
    "        \"GE\",\n",
    "        \"RU\"\n",
    "    ]}\n",
    "    \n",
    "Non-relative topologies must be defined by a set of integer ids.\n",
    "\n",
    "    {\n",
    "        'A': {1, 2, 3},\n",
    "        'B': {2, 3, 4},\n",
    "    }\n",
    "    \n",
    "Regions added by `add_definitions` will be namespaced with the second argument passed to the function."
   ]
  },
  {
   "cell_type": "code",
   "execution_count": 11,
   "metadata": {
    "collapsed": true
   },
   "outputs": [],
   "source": [
    "topoz = {\"Black Sea\": [\n",
    "    \"RO\",\n",
    "    \"TR\",\n",
    "    \"UA\",\n",
    "    \"GE\",\n",
    "    \"BG\",\n",
    "    \"RU\",\n",
    "]}\n",
    "geomatcher.add_definitions(topoz, \"just added\")"
   ]
  },
  {
   "cell_type": "code",
   "execution_count": 12,
   "metadata": {},
   "outputs": [
    {
     "data": {
      "text/plain": [
       "[('just added', 'Black Sea'),\n",
       " 'RU',\n",
       " ('ecoinvent', 'Russia (Asia)'),\n",
       " ('ecoinvent', 'Russia (Europe)'),\n",
       " 'TR',\n",
       " ('IMAGE', 'Turkey'),\n",
       " 'UA',\n",
       " 'BG',\n",
       " 'GE',\n",
       " 'RO']"
      ]
     },
     "execution_count": 12,
     "metadata": {},
     "output_type": "execute_result"
    }
   ],
   "source": [
    "geomatcher.contained((\"just added\", \"Black Sea\"))"
   ]
  },
  {
   "cell_type": "code",
   "execution_count": null,
   "metadata": {
    "collapsed": true
   },
   "outputs": [],
   "source": []
  }
 ],
 "metadata": {
  "kernelspec": {
   "display_name": "Python 3",
   "language": "python",
   "name": "python3"
  },
  "language_info": {
   "codemirror_mode": {
    "name": "ipython",
    "version": 3
   },
   "file_extension": ".py",
   "mimetype": "text/x-python",
   "name": "python",
   "nbconvert_exporter": "python",
   "pygments_lexer": "ipython3",
   "version": "3.6.1"
  }
 },
 "nbformat": 4,
 "nbformat_minor": 2
}
